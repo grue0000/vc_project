{
 "cells": [
  {
   "cell_type": "code",
   "execution_count": null,
   "metadata": {},
   "outputs": [],
   "source": [
    "# 사진에서 골프공, 퍼터 인식 코드\n",
    "\n",
    "import cv2\n",
    "import numpy as np\n",
    "\n",
    "thr =0.3\n",
    "\n",
    "for i in range(30):\n",
    "    src = cv2.imread(\"D_899_1/temp-04302021112709-\"+str(784+i)+\".bmp\", cv2.IMREAD_GRAYSCALE)\n",
    "    templit = cv2.imread(\"ball.jpg\", cv2.IMREAD_GRAYSCALE)\n",
    "    templit1 = cv2.imread(\"putter1.jpg\", cv2.IMREAD_GRAYSCALE)\n",
    "    \n",
    "    src1= cv2.imread(\"D_899_1/temp-04302021112709-\"+str(784+i)+\".bmp\") \n",
    "    srcgray = cv2.cvtColor(src1, cv2.COLOR_BGR2GRAY)\n",
    "    ret, srcdst = cv2.threshold (srcgray, 110, 255, cv2.THRESH_BINARY)\n",
    "    \n",
    "    putter = cv2.imread(\"putter1.jpg\") \n",
    "    puttergray = cv2.cvtColor(putter, cv2.COLOR_BGR2GRAY)\n",
    "    ret, putterdst = cv2.threshold (puttergray, 110, 255, cv2.THRESH_BINARY)\n",
    "    \n",
    "    dst = cv2.imread(\"D_899_1/temp-04302021112709-\"+str(784+i)+\".bmp\")\n",
    "\n",
    "    \n",
    "    res = cv2.matchTemplate(src, templit, cv2.TM_SQDIFF_NORMED)\n",
    "\n",
    "    if len(np.where(res >= thr)[0]) > 0:  \n",
    "        minVal, maxVal, minLoc, maxLoc = cv2.minMaxLoc(res)\n",
    "        x, y = minLoc\n",
    "        h, w = templit.shape\n",
    "        dst = cv2.rectangle(dst, (x, y), (x +  w, y + h) , (0, 0, 255), 1)\n",
    "\n",
    "        \n",
    "    res1 = cv2.matchTemplate(srcdst, putterdst, cv2.TM_SQDIFF_NORMED)\n",
    "                             \n",
    "    if len(np.where(res1 >= thr)[0])>0:\n",
    "        minVal1, maxVal1, minLoc1, maxLoc1 = cv2.minMaxLoc(res1)\n",
    "        x1, y1 = minLoc1\n",
    "        h1, w1 = templit1.shape\n",
    "        dst = cv2.rectangle(dst, (x1, y1), (x1 +  w1, y1 + h1) , (0, 0, 255), 1)\n",
    "\n",
    "\n",
    "    cv2.imshow(\"dst\", dst)\n",
    "    cv2.waitKey(0)\n",
    "    cv2.destroyAllWindows()\n"
   ]
  }
 ],
 "metadata": {
  "kernelspec": {
   "display_name": "Python 3",
   "language": "python",
   "name": "python3"
  },
  "language_info": {
   "codemirror_mode": {
    "name": "ipython",
    "version": 3
   },
   "file_extension": ".py",
   "mimetype": "text/x-python",
   "name": "python",
   "nbconvert_exporter": "python",
   "pygments_lexer": "ipython3",
   "version": "3.8.5"
  }
 },
 "nbformat": 4,
 "nbformat_minor": 4
}
