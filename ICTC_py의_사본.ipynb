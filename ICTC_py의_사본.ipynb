{
  "nbformat": 4,
  "nbformat_minor": 0,
  "metadata": {
    "colab": {
      "name": "Untitled_ICTC_test.py의 사본",
      "provenance": [],
      "collapsed_sections": [],
      "authorship_tag": "ABX9TyPlI/96vDfg5pw1WQyVSNMf"
    },
    "kernelspec": {
      "name": "python3",
      "display_name": "Python 3"
    },
    "language_info": {
      "name": "python"
    }
  },
  "cells": [
    {
      "cell_type": "code",
      "metadata": {
        "colab": {
          "base_uri": "https://localhost:8080/",
          "height": 445
        },
        "id": "Jbq2AlylBoK_",
        "outputId": "a0879d4a-f6a9-417b-c74b-8ac987200047"
      },
      "source": [
        "import numpy as np\n",
        "import random\n",
        "import matplotlib.pyplot as plt\n",
        "from matplotlib import cm\n",
        "from mpl_toolkits.mplot3d import Axes3D\n",
        "\n",
        "\n",
        "end_point = 16\n",
        "Q = np.zeros([end_point,3]) # state = 000, action = 3\n",
        "num_episodes = 5000\n",
        "temp_reward = np.zeros([end_point+10])\n",
        "temp_action = np.zeros([end_point+10])\n",
        "temp_state = np.zeros([end_point+10])\n",
        "temp_stack = np.zeros([end_point+10])\n",
        "\n",
        "def rargmax(vector):\n",
        "  m = np.amax(vector)\n",
        "  indices = np.nonzero(vector == m)[0]\n",
        "  return random.choice(indices) # 선택지가 모두 0이면, 랜덤으로 고름\n",
        "\n",
        "def RL_filter(state, action, T_queue): # 강화학습이 동작해야 할 판\n",
        "\n",
        "  '''\n",
        "  ###### Queue stack over\n",
        "  if T_queue >= end_point*20:\n",
        "    action = 0\n",
        "  elif T_queue >= end_point*17:\n",
        "    action = 1\n",
        "  elif T_queue >= end_point*15:\n",
        "    action = 2\n",
        "  else:\n",
        "    action = 3\n",
        "  '''\n",
        "\n",
        "  ###### Computation: State \n",
        "  if action == 0: # Filter size: 3\n",
        "    new_state = state + 1\n",
        "    stack = 1\n",
        "\n",
        "  elif action == 1: # Filter size: 5\n",
        "    new_state = state + 2\n",
        "    stack = 2\n",
        "\n",
        "  else: # Filter size: 7\n",
        "    new_state = state + 3\n",
        "    stack = 3\n",
        "\n",
        "#  else:             # Filter size: 9\n",
        "#    new_state = state + 3\n",
        "#    stack = 60\n",
        "\n",
        "  ###### Computation: Reward\n",
        "  if new_state == 15:\n",
        "    reward = 1\n",
        "  elif (new_state == 3) or (new_state == 4) or (new_state == 7) or (new_state == 9) or (new_state == 14):\n",
        "    new_state = state\n",
        "    reward = -1\n",
        "  else:\n",
        "    reward = 0\n",
        "\n",
        "\n",
        "  ###### Computation: Done\n",
        "  if new_state >= end_point-1:\n",
        "    new_state = end_point-1\n",
        "    done = True\n",
        "  else:\n",
        "    done = None\n",
        "\n",
        "  return new_state, reward, done, action, stack\n",
        "\n",
        "\n",
        "for i in range(num_episodes):\n",
        "  p = 0\n",
        "  e = 1./((i/100)+1) # decaying e-greedy = 0.99->0.98->0.97->0.96-> ...->0.0009 (10000)\n",
        "  state = 0\n",
        "  T_queue = 0\n",
        "  total_reward = 0\n",
        "  done = None\n",
        "  gamma = 1   # 미래의 reward가 현재의 reward보다 낮다.\n",
        "\n",
        "  while not done:\n",
        "    if np.random.rand(1) < e:\n",
        "      action = random.choice(range(0,3))\n",
        "    else:\n",
        "      action = rargmax(Q[state, :])\n",
        "    new_state, reward, done, act, stack = RL_filter(state, action, T_queue)\n",
        "    Q[state, action] = reward + gamma * np.max(Q[new_state, :])   # Q(s,a) = r + gamma*argmax Q(s', a')  (0 < gamma <= 1)\n",
        "\n",
        "    total_reward += reward\n",
        "    state = new_state\n",
        "    T_queue += stack\n",
        "    temp_reward[p] = total_reward\n",
        "    temp_action[p] = act\n",
        "    temp_state[p] = new_state\n",
        "    temp_stack[p] = T_queue\n",
        "    p += 1\n",
        "\n",
        "print(np.transpose(Q))\n",
        "print('T_queue: ', T_queue, 'Total reward:', total_reward)\n",
        "print(temp_stack)\n",
        "print(np.count_nonzero(temp_stack))\n",
        "#print(temp_reward, temp_action, temp_state)\n",
        "\n",
        "#X = np.linspace(0,end_point-1, end_point)\n",
        "\n",
        "#plt.plot(Q)\n",
        "#plt.plot(Result[:,0])  # Reward\n",
        "#plt.plot(temp_action)   # Action\n",
        "#plt.plot(Result[:,2])  # State\n",
        "plt.plot(temp_stack[0:np.count_nonzero(temp_stack)]+1)   # Stack\n",
        "\n",
        "\n",
        "\"\"\"\n",
        "fig, ax = plt.subplots(subplot_kw={\"projection\": \"3d\"})\n",
        "fig.set_size_inches(8, 8)\n",
        "surf = ax.plot_surface(Result, Result, Result, cmap=cm.coolwarm, linewidth=0, antialiased=False)\n",
        "fig.colorbar(surf, shrink=0.5, aspect=5)\n",
        "ax.set_xlabel('State')\n",
        "ax.set_ylabel('Action')\n",
        "ax.set_zlabel('Reward')\n",
        "ax.set_title('3D contour')\n",
        "plt.show()\n",
        "\"\"\"\n"
      ],
      "execution_count": 2,
      "outputs": [
        {
          "output_type": "stream",
          "text": [
            "[[1. 1. 0. 0. 0. 1. 0. 0. 0. 0. 1. 1. 1. 0. 0. 0.]\n",
            " [1. 0. 0. 0. 0. 0. 1. 0. 1. 0. 1. 1. 0. 1. 0. 0.]\n",
            " [0. 0. 1. 0. 0. 1. 0. 0. 1. 0. 1. 0. 1. 0. 0. 0.]]\n",
            "T_queue:  15 Total reward: 1\n",
            "[ 2.  5.  8. 11. 13. 15. 15. 15. 15. 17. 16. 22. 23. 25. 30. 27. 30. 32.\n",
            " 33. 34. 37. 40. 42. 44.  0.  0.]\n",
            "24\n"
          ],
          "name": "stdout"
        },
        {
          "output_type": "execute_result",
          "data": {
            "application/vnd.google.colaboratory.intrinsic+json": {
              "type": "string"
            },
            "text/plain": [
              "'\\nfig, ax = plt.subplots(subplot_kw={\"projection\": \"3d\"})\\nfig.set_size_inches(8, 8)\\nsurf = ax.plot_surface(Result, Result, Result, cmap=cm.coolwarm, linewidth=0, antialiased=False)\\nfig.colorbar(surf, shrink=0.5, aspect=5)\\nax.set_xlabel(\\'State\\')\\nax.set_ylabel(\\'Action\\')\\nax.set_zlabel(\\'Reward\\')\\nax.set_title(\\'3D contour\\')\\nplt.show()\\n'"
            ]
          },
          "metadata": {
            "tags": []
          },
          "execution_count": 2
        },
        {
          "output_type": "display_data",
          "data": {
            "image/png": "[encoded data removed]",
            "text/plain": [
              "<Figure size 432x288 with 1 Axes>"
            ]
          },
          "metadata": {
            "tags": [],
            "needs_background": "light"
          }
        }
      ]
    }
  ]
}